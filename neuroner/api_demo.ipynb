{
 "cells": [
  {
   "cell_type": "code",
   "execution_count": 1,
   "metadata": {
    "collapsed": false
   },
   "outputs": [],
   "source": [
    "%load_ext autoreload\n",
    "%autoreload 2"
   ]
  },
  {
   "cell_type": "code",
   "execution_count": 3,
   "metadata": {
    "collapsed": false
   },
   "outputs": [
    {
     "ename": "AssertionError",
     "evalue": "could not find onto_root at /resources/bluima/neuroner/",
     "output_type": "error",
     "traceback": [
      "\u001b[1;31m---------------------------------------------------------------------------\u001b[0m",
      "\u001b[1;31mAssertionError\u001b[0m                            Traceback (most recent call last)",
      "\u001b[1;32m<ipython-input-3-cd985e0a1297>\u001b[0m in \u001b[0;36m<module>\u001b[1;34m()\u001b[0m\n\u001b[1;32m----> 1\u001b[1;33m \u001b[1;32mfrom\u001b[0m \u001b[0mnormalize\u001b[0m \u001b[1;32mimport\u001b[0m \u001b[0mclean_annotations\u001b[0m\u001b[1;33m,\u001b[0m \u001b[0mnormalize_annots\u001b[0m\u001b[1;33m\u001b[0m\u001b[0m\n\u001b[0m",
      "\u001b[1;32m/home/stripathy/workspace/neuroelectro_org/neuroelectro_org/neuroNER/neuroner/normalize.py\u001b[0m in \u001b[0;36m<module>\u001b[1;34m()\u001b[0m\n\u001b[0;32m    103\u001b[0m \u001b[1;33m\u001b[0m\u001b[0m\n\u001b[0;32m    104\u001b[0m \u001b[0monto_root\u001b[0m \u001b[1;33m=\u001b[0m \u001b[0mos\u001b[0m\u001b[1;33m.\u001b[0m\u001b[0mpath\u001b[0m\u001b[1;33m.\u001b[0m\u001b[0mdirname\u001b[0m\u001b[1;33m(\u001b[0m\u001b[0msys\u001b[0m\u001b[1;33m.\u001b[0m\u001b[0mmodules\u001b[0m\u001b[1;33m[\u001b[0m\u001b[1;34m'neuroner'\u001b[0m\u001b[1;33m]\u001b[0m\u001b[1;33m.\u001b[0m\u001b[0m__file__\u001b[0m\u001b[1;33m)\u001b[0m \u001b[1;33m+\u001b[0m \u001b[1;34m'/resources/bluima/neuroner/'\u001b[0m\u001b[1;33m\u001b[0m\u001b[0m\n\u001b[1;32m--> 105\u001b[1;33m \u001b[1;32massert\u001b[0m \u001b[0mos\u001b[0m\u001b[1;33m.\u001b[0m\u001b[0mpath\u001b[0m\u001b[1;33m.\u001b[0m\u001b[0mexists\u001b[0m\u001b[1;33m(\u001b[0m\u001b[0monto_root\u001b[0m\u001b[1;33m)\u001b[0m\u001b[1;33m,\u001b[0m \u001b[1;34m'could not find onto_root at '\u001b[0m \u001b[1;33m+\u001b[0m \u001b[0monto_root\u001b[0m\u001b[1;33m\u001b[0m\u001b[0m\n\u001b[0m\u001b[0;32m    106\u001b[0m \u001b[1;33m\u001b[0m\u001b[0m\n\u001b[0;32m    107\u001b[0m \u001b[1;31m# load all ontologies into one large dictionary\u001b[0m\u001b[1;33m\u001b[0m\u001b[1;33m\u001b[0m\u001b[0m\n",
      "\u001b[1;31mAssertionError\u001b[0m: could not find onto_root at /resources/bluima/neuroner/"
     ]
    }
   ],
   "source": [
    "from normalize import clean_annotations, normalize_annots"
   ]
  },
  {
   "cell_type": "code",
   "execution_count": 2,
   "metadata": {
    "collapsed": false
   },
   "outputs": [
    {
     "ename": "ImportError",
     "evalue": "No module named normalize",
     "output_type": "error",
     "traceback": [
      "\u001b[1;31m---------------------------------------------------------------------------\u001b[0m",
      "\u001b[1;31mImportError\u001b[0m                               Traceback (most recent call last)",
      "\u001b[1;32m<ipython-input-2-e13f408a90f5>\u001b[0m in \u001b[0;36m<module>\u001b[1;34m()\u001b[0m\n\u001b[1;32m----> 1\u001b[1;33m \u001b[1;32mfrom\u001b[0m \u001b[0mneuroner\u001b[0m\u001b[1;33m.\u001b[0m\u001b[0mnormalize\u001b[0m \u001b[1;32mimport\u001b[0m \u001b[0mclean_annotations\u001b[0m\u001b[1;33m,\u001b[0m \u001b[0mnormalize_annots\u001b[0m\u001b[1;33m\u001b[0m\u001b[0m\n\u001b[0m",
      "\u001b[1;31mImportError\u001b[0m: No module named normalize"
     ]
    }
   ],
   "source": [
    "from neuroner.normalize import clean_annotations, normalize_annots"
   ]
  },
  {
   "cell_type": "code",
   "execution_count": null,
   "metadata": {
    "collapsed": false
   },
   "outputs": [],
   "source": [
    "from similarity import similarity\n",
    "from similarity_intra import load_ontologies\n",
    "\n",
    "# Computes the intra and inter semantic similarity between two neurons\n",
    "# in: n1@str, n2@str: the two neurons to measure similarity\n",
    "# out: (score:float, [(matching_properties, explanation@str)])\n",
    "#similarity('PV Layer 1 cortex acetylcholine neuron', 'Layer 1a striatum gaba fast-spiking neuron')\n",
    "similarity('Periventricular zone layer 5a neuron', 'Hypothalamic medial zone layer 5-6 neuron')"
   ]
  },
  {
   "cell_type": "code",
   "execution_count": null,
   "metadata": {
    "collapsed": true
   },
   "outputs": [],
   "source": [
    "import pandas as pd\n",
    "\n",
    "\n",
    "# download neuroelectro summary spreadsheet from URL and import into pandas data frame\n",
    "neuroelectro_dataset_url = \"http://dev.neuroelectro.org/static/src/article_ephys_metadata_curated.csv\"\n",
    "table = pd.read_csv(neuroelectro_dataset_url, sep='\\t', index_col = 0, header=0)"
   ]
  },
  {
   "cell_type": "code",
   "execution_count": null,
   "metadata": {
    "collapsed": true
   },
   "outputs": [],
   "source": [
    "big_onto = load_ontologies()"
   ]
  },
  {
   "cell_type": "code",
   "execution_count": null,
   "metadata": {
    "collapsed": true
   },
   "outputs": [],
   "source": [
    "name_spaces = [('NCBI_GENE', 'gene'), ('HBP_LAYER', 'layer'), ('HBP_MORPHOLOGY', 'shape'), ('REGION', 'region'),\n",
    "              ('HBP_EPHYS', 'ephys'), ('MOUSE_LINE', 'line'),]\n",
    "proj_name = 'projection'\n",
    "\n",
    "proj_list = ['CStr', 'CSp', 'CThal', 'CCo', 'CTrig', 'CTect']\n",
    "\n",
    "def annots_to_dict(annot_list):\n",
    "    temp_dict = {}\n",
    "    for annotation in annot_list:\n",
    "        for s in name_spaces:\n",
    "            if s[0] in annotation:\n",
    "                term = _normalize([annotation], shorten = True)\n",
    "                if term in proj_list:\n",
    "                    temp_dict[proj_name] = term\n",
    "                    continue\n",
    "                if s[1] not in temp_dict:\n",
    "                    temp_dict[s[1]] = term\n",
    "                else:\n",
    "                    temp_dict[s[1]] = '%s %s' %  (temp_dict[s[1]],  term)\n",
    "    return temp_dict"
   ]
  },
  {
   "cell_type": "code",
   "execution_count": null,
   "metadata": {
    "collapsed": false
   },
   "outputs": [],
   "source": [
    "strain_list = ['GIN', 'G42', 'GAD65-GFP', 'Thy1-YFP']\n",
    "def add_animal_strain_to_neuron(input_neuron_name, strain):\n",
    "    output_neuron_name = input_neuron_name\n",
    "\n",
    "    if strain in strain_list:\n",
    "        #output_neuron_name += ' from %s mouse line' % strain\n",
    "        output_neuron_name += ' %s' % strain\n",
    "    return output_neuron_name\n",
    "def check_strain(neuron_name):\n",
    "    for s in strain_list:\n",
    "        if s in neuron_name:\n",
    "            return 'MOUSE_LINE:%s' % s\n",
    "    return None\n",
    "check_strain('Hypothalamic medial zone dopaminergic neuron from Thy1-YFP mouse line')"
   ]
  },
  {
   "cell_type": "code",
   "execution_count": null,
   "metadata": {
    "collapsed": false
   },
   "outputs": [],
   "source": [
    "from sherlok import Sherlok\n",
    "s = Sherlok('neuroner')\n",
    "\n",
    "from similarity import _cleanup, _normalize\n",
    "\n",
    "neuron_name = 'Neocortex corticostriatal NPY somatostatin-expressing with depolarizing fast spiking AHP Layer 5a pyramidal cell GIN'\n",
    "r = s.annotate(neuron_name)\n",
    "#annot_list = format_annots(neuron_name, r.annotations)\n",
    "al = _cleanup(r.annotations, neuron_name)\n",
    "if check_strain(neuron_name):\n",
    "    al.append(check_strain(neuron_name))\n",
    "print _normalize(al, shorten = True)\n",
    "\n",
    "#print annot_list\n",
    "print al"
   ]
  },
  {
   "cell_type": "code",
   "execution_count": null,
   "metadata": {
    "collapsed": true
   },
   "outputs": [],
   "source": [
    "# use sherlok to annotate each curated neuron mention in neuroelectro\n",
    "annot_vec = []\n",
    "dict_list = []\n",
    "for index, row in table.iterrows():\n",
    "    neuron_name_orig = row['NeuronLongName']\n",
    "    strain = unicode(row['Strain'])\n",
    "    # if no neuron long name, use neurolex neuron name (should always be available)\n",
    "    if pd.isnull(neuron_name_orig):\n",
    "        neuron_name_orig = row['NeuronName']\n",
    "        \n",
    "    # hack for adding strain annotations, since not in neuroNER\n",
    "    neuron_name = add_animal_strain_to_neuron(neuron_name_orig, strain)\n",
    "    \n",
    "    # annotate using sherlok\n",
    "    r = s.annotate(neuron_name)\n",
    "    cleaned_annotations = _cleanup(r.annotations, neuron_name)\n",
    "    \n",
    "    if check_strain(neuron_name):\n",
    "        cleaned_annotations.append(check_strain(neuron_name))\n",
    "        for c in cleaned_annotations:\n",
    "            if c.startswith('NCBI_GENE'):\n",
    "                cleaned_annotations.remove(c)\n",
    "    short_annots = _normalize(cleaned_annotations, shorten = True)\n",
    "    temp_dict = annots_to_dict(cleaned_annotations)\n",
    "    temp_dict['neuron_name'] = neuron_name\n",
    "    temp_dict['neuron_name_orig'] = neuron_name_orig\n",
    "    temp_dict['short_name'] = short_annots\n",
    "    temp_dict['annotations'] = cleaned_annotations\n",
    "    temp_dict['Index'] = index\n",
    "    dict_list.append(temp_dict)\n",
    "\n",
    "#     f = format_annots(neuron_name, r.annotations)\n",
    "#     annot_vec.append((neuron_name, f))"
   ]
  },
  {
   "cell_type": "code",
   "execution_count": null,
   "metadata": {
    "collapsed": false
   },
   "outputs": [],
   "source": [
    "dict_list[4]"
   ]
  },
  {
   "cell_type": "code",
   "execution_count": null,
   "metadata": {
    "collapsed": false
   },
   "outputs": [],
   "source": [
    "col_names = [n[1] for n in name_spaces]\n",
    "col_names.append('projection')\n",
    "\n",
    "df = pd.DataFrame.from_records(dict_list, index = 'Index')\n",
    "df\n",
    "\n",
    "table[0:4]"
   ]
  },
  {
   "cell_type": "code",
   "execution_count": null,
   "metadata": {
    "collapsed": true
   },
   "outputs": [],
   "source": [
    "table = table.join(df)"
   ]
  },
  {
   "cell_type": "code",
   "execution_count": null,
   "metadata": {
    "collapsed": true
   },
   "outputs": [],
   "source": [
    "table.to_csv('df.csv', sep='\\t', encoding='utf-8')"
   ]
  },
  {
   "cell_type": "code",
   "execution_count": null,
   "metadata": {
    "collapsed": false
   },
   "outputs": [],
   "source": [
    "table.head()"
   ]
  },
  {
   "cell_type": "code",
   "execution_count": null,
   "metadata": {
    "collapsed": true
   },
   "outputs": [],
   "source": [
    "# load in csv of Design.csv dataset\n",
    "\n",
    "gene_exp_path = '/home/stripathy/brainCellTypeSpecificGenes/data/Design.tsv'\n",
    "gene_exp_table = pd.read_csv(gene_exp_path, sep='\\t', index_col = 0, header=0)"
   ]
  },
  {
   "cell_type": "code",
   "execution_count": null,
   "metadata": {
    "collapsed": false
   },
   "outputs": [],
   "source": [
    "gene_exp_table.tail()"
   ]
  },
  {
   "cell_type": "code",
   "execution_count": null,
   "metadata": {
    "collapsed": true
   },
   "outputs": [],
   "source": [
    "import re\n",
    "\n",
    "# use sherlok to annotate each curated neuron mention in neuroelectro\n",
    "#annot_vec = []\n",
    "gene_dict_list = []\n",
    "for index, row in gene_exp_table.iterrows():\n",
    "    neuron_name = row['neuroNER Inferred Properties']\n",
    "    \n",
    "    # if no neuron long name, just move on\n",
    "    if pd.isnull(neuron_name):\n",
    "        temp_dict = {}\n",
    "        temp_dict['annotations'] = []\n",
    "        temp_dict['Index'] = index\n",
    "        temp_dict['short_name'] = ''\n",
    "        temp_dict['neuron_name'] = ''\n",
    "        gene_dict_list.append(temp_dict)\n",
    "        continue\n",
    "        # neuron_name = row['NeuronName']\n",
    "    \n",
    "    mouse_line_match = re.search('from .+ mouse line', neuron_name)\n",
    "    if mouse_line_match:\n",
    "        strain_annotation = check_strain(neuron_name)\n",
    "        neuron_name = re.sub('from .+ mouse line', '', neuron_name)\n",
    "    \n",
    "    # annotate using sherlok\n",
    "    r = s.annotate(neuron_name)\n",
    "    cleaned_annotations = _cleanup(r.annotations, neuron_name)\n",
    "    if mouse_line_match:\n",
    "        cleaned_annotations.append(strain_annotation)\n",
    "        for c in cleaned_annotations:\n",
    "            if c.startswith('NCBI_GENE'):\n",
    "                cleaned_annotations.remove(c)\n",
    "    short_annots = _normalize(cleaned_annotations, shorten = True)\n",
    "    temp_dict = annots_to_dict(cleaned_annotations)\n",
    "    temp_dict['short_name'] = short_annots\n",
    "    temp_dict['neuron_name'] = neuron_name\n",
    "    temp_dict['annotations'] = cleaned_annotations\n",
    "    temp_dict['Index'] = index\n",
    "    gene_dict_list.append(temp_dict)\n",
    "\n",
    "#     f = format_annots(neuron_name, r.annotations)\n",
    "#     annot_vec.append((neuron_name, f))"
   ]
  },
  {
   "cell_type": "code",
   "execution_count": null,
   "metadata": {
    "collapsed": true
   },
   "outputs": [],
   "source": [
    "df_gene = pd.DataFrame.from_records(gene_dict_list, index = 'Index')\n",
    "gene_exp_table = gene_exp_table.join(df_gene)"
   ]
  },
  {
   "cell_type": "code",
   "execution_count": null,
   "metadata": {
    "collapsed": true
   },
   "outputs": [],
   "source": [
    "gene_exp_table.to_csv('df_gene.csv', sep='\\t', encoding='utf-8')"
   ]
  },
  {
   "cell_type": "code",
   "execution_count": null,
   "metadata": {
    "collapsed": false
   },
   "outputs": [],
   "source": [
    "for index, row in gene_exp_table.iterrows():\n",
    "    curr_list = row\n",
    "    sim_vec = []\n",
    "    sim_val_vec = []\n",
    "    for d in dict_list:\n",
    "        sim = similarity2(curr_list['annotations'], d['annotations'], symmetric = False, use_inter_similarity = False, )\n",
    "        sim_vec.append(sim)\n",
    "        sim_val_vec.append(sim[0])\n",
    "    sim_val_vec\n",
    "    inds = sorted(range(len(sim_val_vec)),key=lambda x:sim_val_vec[x], reverse = True)\n",
    "    print 'target name -> %s' % curr_list['short_name']\n",
    "    #print curr_list['annotations']\n",
    "    for i in range(0,20):\n",
    "        print 'match value: %.2f, best match: %s' % (sim_val_vec[inds[i]], dict_list[inds[i]]['short_name'])\n",
    "        #print dict_list[inds[i]]['annotations']\n",
    "    print '\\n'"
   ]
  },
  {
   "cell_type": "code",
   "execution_count": null,
   "metadata": {
    "collapsed": false
   },
   "outputs": [],
   "source": [
    "from similarity import similarity, similarity2\n",
    "from similarity_intra import load_ontologies\n",
    "\n",
    "# Computes the intra and inter semantic similarity between two neurons\n",
    "# in: n1@str, n2@str: the two neurons to measure similarity\n",
    "# out: (score:float, [(matching_properties, explanation@str)])\n",
    "#similarity('PV Layer 1 cortex acetylcholine neuron', 'Layer 1a striatum gaba fast-spiking neuron')\n",
    "print similarity('dorsal raphe serotonergic cell', 'Midbrain Slc6a4-expressing serotonergic cells', symmetric = True)\n",
    "print similarity('Midbrain Slc6a4-expressing serotonergic cells', 'dorsal raphe serotonergic cell', symmetric = False)"
   ]
  },
  {
   "cell_type": "code",
   "execution_count": null,
   "metadata": {
    "collapsed": false
   },
   "outputs": [],
   "source": [
    "similarity2(gene_dict_list[25]['annotations'], dict_list[25]['annotations'])"
   ]
  },
  {
   "cell_type": "code",
   "execution_count": null,
   "metadata": {
    "collapsed": false
   },
   "outputs": [],
   "source": [
    "print dict_list[25]['short_name']\n",
    "print gene_exp_table.iloc[51]['annotations']"
   ]
  },
  {
   "cell_type": "code",
   "execution_count": null,
   "metadata": {
    "collapsed": true
   },
   "outputs": [],
   "source": [
    "from  more_itertools import unique_everseen\n",
    "\n",
    "def find_matching_neurons(target_neuron_anns, matching_ann_dict_list, match_thresh = .8):\n",
    "    sim_vec = []\n",
    "    sim_val_vec = []\n",
    "    matching_neuron_list = []\n",
    "    for d in matching_ann_dict_list:\n",
    "        sim = similarity2(target_neuron_anns['annotations'], d['annotations'], symmetric = False, use_inter_similarity = False)\n",
    "        sim_vec.append(sim)\n",
    "        sim_val_vec.append(sim[0])\n",
    "    sim_val_vec\n",
    "    inds = sorted(range(len(sim_val_vec)),key=lambda x:sim_val_vec[x], reverse = True)\n",
    "    for i in range(0, len(inds)):\n",
    "        if sim_val_vec[inds[i]] > match_thresh:\n",
    "            matching_neuron_list.append(dict_list[inds[i]]['neuron_name_orig'])\n",
    "    if (len(matching_neuron_list) <= 2):\n",
    "        #print match_thresh, target_neuron_anns\n",
    "        return find_matching_neurons(target_neuron_anns, matching_ann_dict_list, match_thresh - .05)\n",
    "    elif match_thresh < .4:\n",
    "        return []\n",
    "    return list(unique_everseen(matching_neuron_list))"
   ]
  },
  {
   "cell_type": "code",
   "execution_count": null,
   "metadata": {
    "collapsed": false
   },
   "outputs": [],
   "source": [
    "ind = 63\n",
    "#print gene_exp_table.iloc[ind]['neuron_name']\n",
    "find_matching_neurons(gene_exp_table.iloc[ind], dict_list)"
   ]
  },
  {
   "cell_type": "code",
   "execution_count": null,
   "metadata": {
    "collapsed": true
   },
   "outputs": [],
   "source": [
    "import numpy as np\n",
    "# use sherlok to annotate each curated neuron mention in neuroelectro\n",
    "#annot_vec = []\n",
    "gene_dict_list = []\n",
    "for index, row in gene_exp_table.iterrows():\n",
    "    temp_dict = {}\n",
    "    if len(row['annotations']) > 0:\n",
    "        matched_neuron_list = find_matching_neurons(row, dict_list)\n",
    "    else:\n",
    "        matched_neuron_list = []\n",
    "    temp_dict['matched_neuron_list'] = ';'.join(matched_neuron_list)\n",
    "    temp_dict['Index'] = index\n",
    "    gene_dict_list.append(temp_dict)"
   ]
  },
  {
   "cell_type": "code",
   "execution_count": null,
   "metadata": {
    "collapsed": true
   },
   "outputs": [],
   "source": [
    "df_gene = pd.DataFrame.from_records(gene_dict_list, index = 'Index')\n",
    "gene_exp_table_final = gene_exp_table.join(df_gene)"
   ]
  },
  {
   "cell_type": "code",
   "execution_count": null,
   "metadata": {
    "collapsed": false
   },
   "outputs": [],
   "source": [
    "gene_exp_table_final.head()"
   ]
  },
  {
   "cell_type": "code",
   "execution_count": null,
   "metadata": {
    "collapsed": true
   },
   "outputs": [],
   "source": []
  },
  {
   "cell_type": "code",
   "execution_count": null,
   "metadata": {
    "collapsed": true
   },
   "outputs": [],
   "source": [
    "# work on sorting gene exp rows by semantic similarity\n",
    "\n",
    "from scipy.spatial.distance import squareform\n",
    "from scipy.cluster.hierarchy import leaders, fclusterdata, linkage, dendrogram, leaves_list\n",
    "\n",
    "# calculate pairwise distance matrix based on similarity\n",
    "dist_mat = []\n",
    "labels = []\n",
    "for index, row1 in gene_exp_table_final.iterrows():\n",
    "    sim_vec = []\n",
    "    ann1 = row1['annotations']\n",
    "    labels.append(row1['short_name'])\n",
    "    for i, row2 in gene_exp_table.iterrows():\n",
    "        ann2 = row2['annotations']\n",
    "        \n",
    "        (sim_val, exp) = similarity2(ann1, ann2, symmetric = True, use_inter_similarity = False)\n",
    "        sim_dist = 1 - sim_val\n",
    "        sim_vec.append(sim_dist)\n",
    "    dist_mat.append(sim_vec)\n",
    "    \n",
    "# \n",
    "d = squareform(dist_mat)\n",
    "Z = linkage(d)\n",
    "sorted_rows = leaves_list(Z)"
   ]
  },
  {
   "cell_type": "code",
   "execution_count": null,
   "metadata": {
    "collapsed": true
   },
   "outputs": [],
   "source": [
    "gene_exp_table_final = gene_exp_table_final.iloc[sorted_rows]\n",
    "gene_exp_table_final.to_csv('df_gene.csv', sep='\\t', encoding='utf-8')"
   ]
  },
  {
   "cell_type": "code",
   "execution_count": null,
   "metadata": {
    "collapsed": true
   },
   "outputs": [],
   "source": []
  },
  {
   "cell_type": "code",
   "execution_count": null,
   "metadata": {
    "collapsed": false
   },
   "outputs": [],
   "source": [
    "dendrogram(Z, labels = labels)"
   ]
  },
  {
   "cell_type": "code",
   "execution_count": null,
   "metadata": {
    "collapsed": true
   },
   "outputs": [],
   "source": []
  }
 ],
 "metadata": {
  "kernelspec": {
   "display_name": "Python 2",
   "language": "python",
   "name": "python2"
  },
  "language_info": {
   "codemirror_mode": {
    "name": "ipython",
    "version": 2
   },
   "file_extension": ".py",
   "mimetype": "text/x-python",
   "name": "python",
   "nbconvert_exporter": "python",
   "pygments_lexer": "ipython2",
   "version": "2.7.6"
  }
 },
 "nbformat": 4,
 "nbformat_minor": 0
}
